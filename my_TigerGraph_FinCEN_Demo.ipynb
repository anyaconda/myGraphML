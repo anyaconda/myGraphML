{
  "nbformat": 4,
  "nbformat_minor": 0,
  "metadata": {
    "colab": {
      "name": "my_TigerGraph_FinCEN_Demo",
      "provenance": [],
      "collapsed_sections": [],
      "include_colab_link": true
    },
    "kernelspec": {
      "name": "python3",
      "display_name": "Python 3"
    }
  },
  "cells": [
    {
      "cell_type": "markdown",
      "metadata": {
        "id": "view-in-github",
        "colab_type": "text"
      },
      "source": [
        "<a href=\"https://colab.research.google.com/github/anyaconda/myGraphML/blob/main/my_TigerGraph_FinCEN_Demo.ipynb\" target=\"_parent\"><img src=\"https://colab.research.google.com/assets/colab-badge.svg\" alt=\"Open In Colab\"/></a>"
      ]
    },
    {
      "cell_type": "markdown",
      "metadata": {
        "id": "jpIfXmbjCc9G"
      },
      "source": [
        "# TigerGraph FinCEN Demo\n",
        "\n",
        "To Get Started you will need an instance of TigerGraph running. The fastest way to get a box running is using https://tgcloud.io. If it's your first time using the cloud portal checkout [**Getting Started with TigerGrapoh 3.0**](https://www.tigergraph.com/blog/getting-started-with-tigergraph-3-0/)\n",
        "\n",
        ">**Note:** This notebook will work if you have an existing solution, by creating a new graph, but it's suggested that you have a blank instance. At the bottom of the notebook you will see a commented out cell that will allow you to clear your existing solution. Use that command wisely as it deletes everything on your existing solution. \n"
      ]
    },
    {
      "cell_type": "markdown",
      "metadata": {
        "id": "IemCki2KDDH4"
      },
      "source": [
        "\n",
        "## Setting Up Enviornment"
      ]
    },
    {
      "cell_type": "markdown",
      "metadata": {
        "id": "1Thn3Tp3vfrI"
      },
      "source": [
        "### Grab and Import Packages"
      ]
    },
    {
      "cell_type": "code",
      "metadata": {
        "id": "gLfGLjW26zVl",
        "colab": {
          "base_uri": "https://localhost:8080/"
        },
        "outputId": "334d1111-fdb1-4021-a0dc-764b89b9b1d3"
      },
      "source": [
        "# FETCH PACKAGES\n",
        "!pip install pyTigerGraphBeta\n",
        "!pip install dateparser\n",
        "import pyTigerGraphBeta as tg\n",
        "import dateparser\n",
        "import pandas as pd"
      ],
      "execution_count": null,
      "outputs": [
        {
          "output_type": "stream",
          "text": [
            "Collecting pyTigerGraphBeta\n",
            "  Downloading https://files.pythonhosted.org/packages/70/6d/3e814166f22bef04b9977b1a37066e17b5057a624c895330457e88d8873c/pyTigerGraphBeta-0.0.9.7-py3-none-any.whl\n",
            "Requirement already satisfied: pandas in /usr/local/lib/python3.7/dist-packages (from pyTigerGraphBeta) (1.1.5)\n",
            "Requirement already satisfied: requests in /usr/local/lib/python3.7/dist-packages (from pyTigerGraphBeta) (2.23.0)\n",
            "Collecting pyTigerDriver==1.0.6\n",
            "  Downloading https://files.pythonhosted.org/packages/71/d8/9f192003380a5e381d15f6db3c7229481df3c3ec74d39b36c5b8e4668d8b/pyTigerDriver-1.0.6-py3-none-any.whl\n",
            "Collecting validators\n",
            "  Downloading https://files.pythonhosted.org/packages/db/2f/7fed3ee94ad665ad2c1de87f858f10a7785251ff75b4fd47987888d07ef1/validators-0.18.2-py3-none-any.whl\n",
            "Requirement already satisfied: python-dateutil>=2.7.3 in /usr/local/lib/python3.7/dist-packages (from pandas->pyTigerGraphBeta) (2.8.1)\n",
            "Requirement already satisfied: pytz>=2017.2 in /usr/local/lib/python3.7/dist-packages (from pandas->pyTigerGraphBeta) (2018.9)\n",
            "Requirement already satisfied: numpy>=1.15.4 in /usr/local/lib/python3.7/dist-packages (from pandas->pyTigerGraphBeta) (1.19.5)\n",
            "Requirement already satisfied: idna<3,>=2.5 in /usr/local/lib/python3.7/dist-packages (from requests->pyTigerGraphBeta) (2.10)\n",
            "Requirement already satisfied: chardet<4,>=3.0.2 in /usr/local/lib/python3.7/dist-packages (from requests->pyTigerGraphBeta) (3.0.4)\n",
            "Requirement already satisfied: certifi>=2017.4.17 in /usr/local/lib/python3.7/dist-packages (from requests->pyTigerGraphBeta) (2020.12.5)\n",
            "Requirement already satisfied: urllib3!=1.25.0,!=1.25.1,<1.26,>=1.21.1 in /usr/local/lib/python3.7/dist-packages (from requests->pyTigerGraphBeta) (1.24.3)\n",
            "Requirement already satisfied: decorator>=3.4.0 in /usr/local/lib/python3.7/dist-packages (from validators->pyTigerGraphBeta) (4.4.2)\n",
            "Requirement already satisfied: six>=1.4.0 in /usr/local/lib/python3.7/dist-packages (from validators->pyTigerGraphBeta) (1.15.0)\n",
            "Installing collected packages: pyTigerDriver, validators, pyTigerGraphBeta\n",
            "Successfully installed pyTigerDriver-1.0.6 pyTigerGraphBeta-0.0.9.7 validators-0.18.2\n",
            "Collecting dateparser\n",
            "\u001b[?25l  Downloading https://files.pythonhosted.org/packages/78/c4/b5ddc3eeac974d85055d88c1e6b62cc492fc1a93dbe3b66a45a756a7b807/dateparser-1.0.0-py2.py3-none-any.whl (279kB)\n",
            "\u001b[K     |████████████████████████████████| 286kB 12.8MB/s \n",
            "\u001b[?25hRequirement already satisfied: tzlocal in /usr/local/lib/python3.7/dist-packages (from dateparser) (1.5.1)\n",
            "Requirement already satisfied: regex!=2019.02.19 in /usr/local/lib/python3.7/dist-packages (from dateparser) (2019.12.20)\n",
            "Requirement already satisfied: pytz in /usr/local/lib/python3.7/dist-packages (from dateparser) (2018.9)\n",
            "Requirement already satisfied: python-dateutil in /usr/local/lib/python3.7/dist-packages (from dateparser) (2.8.1)\n",
            "Requirement already satisfied: six>=1.5 in /usr/local/lib/python3.7/dist-packages (from python-dateutil->dateparser) (1.15.0)\n",
            "Installing collected packages: dateparser\n",
            "Successfully installed dateparser-1.0.0\n"
          ],
          "name": "stdout"
        }
      ]
    },
    {
      "cell_type": "markdown",
      "metadata": {
        "id": "HqiLZEVnvnD7"
      },
      "source": [
        "### Setup Connection to TigerGraph"
      ]
    },
    {
      "cell_type": "code",
      "metadata": {
        "id": "67vQSggz7KdE"
      },
      "source": [
        "# SETUP TIGERGRAPH CONNECTION\n",
        "conn = tg.TigerGraphConnection(host=\"https://my-colab-fin-cen.i.tgcloud.io\", username=\"tigergraph\", password=\"tigergraph\")"
      ],
      "execution_count": null,
      "outputs": []
    },
    {
      "cell_type": "markdown",
      "metadata": {
        "id": "S18YKxo8vX_5"
      },
      "source": [
        "### Fetch Data From GitHub Repo"
      ]
    },
    {
      "cell_type": "code",
      "metadata": {
        "id": "0HENq8d47TNG",
        "colab": {
          "base_uri": "https://localhost:8080/"
        },
        "outputId": "b7951c3b-1225-43d3-ccae-c922641b3c92"
      },
      "source": [
        "# GRAB DATA FILES \n",
        "!git clone https://github.com/HerkTG/finsec.git"
      ],
      "execution_count": null,
      "outputs": [
        {
          "output_type": "stream",
          "text": [
            "Cloning into 'finsec'...\n",
            "remote: Enumerating objects: 16, done.\u001b[K\n",
            "remote: Counting objects: 100% (16/16), done.\u001b[K\n",
            "remote: Compressing objects: 100% (14/14), done.\u001b[K\n",
            "remote: Total 16 (delta 4), reused 0 (delta 0), pack-reused 0\u001b[K\n",
            "Unpacking objects: 100% (16/16), done.\n"
          ],
          "name": "stdout"
        }
      ]
    },
    {
      "cell_type": "markdown",
      "metadata": {
        "id": "OJN5i_4RCrSh"
      },
      "source": [
        "### Loading DataFrames\n",
        "This dataset is a subset of the [FinCEN Files](https://www.icij.org/investigations/fincen-files/explore-the-fincen-files-data/) data.\n"
      ]
    },
    {
      "cell_type": "code",
      "metadata": {
        "id": "NKgn5JP_3p_s"
      },
      "source": [
        "bank_connections = pd.read_csv(\"/content/finsec/bank_connections.csv\", sep=\",\")\n",
        "transactions = pd.read_csv(\"/content/finsec/transactions_map.csv\", sep=\",\")\n",
        "country_stats = pd.read_csv(\"/content/finsec/country_data.csv\", sep=\",\")\n",
        "\n",
        "# CLEAN UP DATETIME FORMATING\n",
        "# Cleaning up begin date in transactions dataframe\n",
        "Ids = []\n",
        "Values =[]\n",
        "for items in transactions['begin_date'].iteritems():\n",
        "     temp = list(items)\n",
        "     try:\n",
        "               temp[1] = str(dateparser.parse(temp[1]).date())\n",
        "     except: \n",
        "               temp[1] = \"\"\n",
        "     Ids.append(temp[0])\n",
        "     Values.append(temp[1])\n",
        "\n",
        "Res = pd.Series(Values, index=Ids)\n",
        "transactions['begin_date'] = Res\n",
        "\n",
        "# Cleaning up end date in transactions dataframe\n",
        "Ids2 = []\n",
        "Values2 =[]\n",
        "for items2 in transactions['end_date'].iteritems():\n",
        "     temp2 = list(items2)\n",
        "     try:\n",
        "               temp2[1] = str(dateparser.parse(temp2[1]).date())\n",
        "     except: \n",
        "               temp2[1] = \"\"\n",
        "     Ids2.append(temp2[0])\n",
        "     Values2.append(temp2[1])\n",
        "\n",
        "Res2 = pd.Series(Values2, index=Ids2)\n",
        "transactions['end_date'] = Res2\n",
        "\n",
        "# CLEAN TRANSACTIONS NA\n",
        "transactions.fillna(float(0), inplace=True)\n",
        "\n",
        "# CLEAN COUNTRY NA\n",
        "country_stats.fillna(float(0), inplace=True)"
      ],
      "execution_count": null,
      "outputs": []
    },
    {
      "cell_type": "code",
      "metadata": {
        "id": "nMUorSW_4FZg",
        "colab": {
          "base_uri": "https://localhost:8080/",
          "height": 395
        },
        "outputId": "a0b00a8f-197c-4637-f37b-8e9f83df0adb"
      },
      "source": [
        "# TEST TRANSACTIONS DATAFRAME\n",
        "transactions.head()"
      ],
      "execution_count": null,
      "outputs": [
        {
          "output_type": "execute_result",
          "data": {
            "text/html": [
              "<div>\n",
              "<style scoped>\n",
              "    .dataframe tbody tr th:only-of-type {\n",
              "        vertical-align: middle;\n",
              "    }\n",
              "\n",
              "    .dataframe tbody tr th {\n",
              "        vertical-align: top;\n",
              "    }\n",
              "\n",
              "    .dataframe thead th {\n",
              "        text-align: right;\n",
              "    }\n",
              "</style>\n",
              "<table border=\"1\" class=\"dataframe\">\n",
              "  <thead>\n",
              "    <tr style=\"text-align: right;\">\n",
              "      <th></th>\n",
              "      <th>id</th>\n",
              "      <th>icij_sar_id</th>\n",
              "      <th>filer_org_name_id</th>\n",
              "      <th>filer_org_name</th>\n",
              "      <th>begin_date</th>\n",
              "      <th>end_date</th>\n",
              "      <th>originator_bank_id</th>\n",
              "      <th>originator_bank</th>\n",
              "      <th>originator_bank_country</th>\n",
              "      <th>originator_iso</th>\n",
              "      <th>beneficiary_bank_id</th>\n",
              "      <th>beneficiary_bank</th>\n",
              "      <th>beneficiary_bank_country</th>\n",
              "      <th>beneficiary_iso</th>\n",
              "      <th>number_transactions</th>\n",
              "      <th>amount_transactions</th>\n",
              "    </tr>\n",
              "  </thead>\n",
              "  <tbody>\n",
              "    <tr>\n",
              "      <th>0</th>\n",
              "      <td>223254</td>\n",
              "      <td>3297</td>\n",
              "      <td>the-bank-of-new-york-mellon-corp</td>\n",
              "      <td>The Bank of New York Mellon Corp.</td>\n",
              "      <td>2015-03-25</td>\n",
              "      <td>2015-09-25</td>\n",
              "      <td>cimb-bank-berhad</td>\n",
              "      <td>CIMB Bank Berhad</td>\n",
              "      <td>Singapore</td>\n",
              "      <td>SGP</td>\n",
              "      <td>barclays-bank-plc-london-england-gbr</td>\n",
              "      <td>Barclays Bank Plc</td>\n",
              "      <td>United Kingdom</td>\n",
              "      <td>GBR</td>\n",
              "      <td>68.0</td>\n",
              "      <td>5.689852e+07</td>\n",
              "    </tr>\n",
              "    <tr>\n",
              "      <th>1</th>\n",
              "      <td>223255</td>\n",
              "      <td>3297</td>\n",
              "      <td>the-bank-of-new-york-mellon-corp</td>\n",
              "      <td>The Bank of New York Mellon Corp.</td>\n",
              "      <td>2015-03-30</td>\n",
              "      <td>2015-09-25</td>\n",
              "      <td>cimb-bank-berhad</td>\n",
              "      <td>CIMB Bank Berhad</td>\n",
              "      <td>Singapore</td>\n",
              "      <td>SGP</td>\n",
              "      <td>barclays-bank-plc-london-england-gbr</td>\n",
              "      <td>Barclays Bank Plc</td>\n",
              "      <td>United Kingdom</td>\n",
              "      <td>GBR</td>\n",
              "      <td>118.0</td>\n",
              "      <td>1.162384e+08</td>\n",
              "    </tr>\n",
              "    <tr>\n",
              "      <th>2</th>\n",
              "      <td>223258</td>\n",
              "      <td>2924</td>\n",
              "      <td>the-bank-of-new-york-mellon-corp</td>\n",
              "      <td>The Bank of New York Mellon Corp.</td>\n",
              "      <td>2012-07-05</td>\n",
              "      <td>2012-07-05</td>\n",
              "      <td>barclays-bank-plc-ho-uk</td>\n",
              "      <td>Barclays Bank Plc Ho UK</td>\n",
              "      <td>United Kingdom</td>\n",
              "      <td>GBR</td>\n",
              "      <td>skandinaviska-enskilda-banken-stockholm-sweden...</td>\n",
              "      <td>Skandinaviska Enskilda Banken</td>\n",
              "      <td>Sweden</td>\n",
              "      <td>SWE</td>\n",
              "      <td>0.0</td>\n",
              "      <td>5.000000e+03</td>\n",
              "    </tr>\n",
              "    <tr>\n",
              "      <th>3</th>\n",
              "      <td>223259</td>\n",
              "      <td>2924</td>\n",
              "      <td>the-bank-of-new-york-mellon-corp</td>\n",
              "      <td>The Bank of New York Mellon Corp.</td>\n",
              "      <td>2012-06-20</td>\n",
              "      <td>2012-06-20</td>\n",
              "      <td>barclays-bank-plc-ho-uk</td>\n",
              "      <td>Barclays Bank Plc Ho UK</td>\n",
              "      <td>United Kingdom</td>\n",
              "      <td>GBR</td>\n",
              "      <td>skandinaviska-enskilda-banken-stockholm-sweden...</td>\n",
              "      <td>Skandinaviska Enskilda Banken</td>\n",
              "      <td>Sweden</td>\n",
              "      <td>SWE</td>\n",
              "      <td>0.0</td>\n",
              "      <td>9.990000e+03</td>\n",
              "    </tr>\n",
              "    <tr>\n",
              "      <th>4</th>\n",
              "      <td>223260</td>\n",
              "      <td>2924</td>\n",
              "      <td>the-bank-of-new-york-mellon-corp</td>\n",
              "      <td>The Bank of New York Mellon Corp.</td>\n",
              "      <td>2012-05-31</td>\n",
              "      <td>2012-05-31</td>\n",
              "      <td>barclays-bank-plc-ho-uk</td>\n",
              "      <td>Barclays Bank Plc Ho UK</td>\n",
              "      <td>United Kingdom</td>\n",
              "      <td>GBR</td>\n",
              "      <td>skandinaviska-enskilda-banken-stockholm-sweden...</td>\n",
              "      <td>Skandinaviska Enskilda Banken</td>\n",
              "      <td>Sweden</td>\n",
              "      <td>SWE</td>\n",
              "      <td>0.0</td>\n",
              "      <td>1.200000e+04</td>\n",
              "    </tr>\n",
              "  </tbody>\n",
              "</table>\n",
              "</div>"
            ],
            "text/plain": [
              "       id  icij_sar_id  ... number_transactions amount_transactions\n",
              "0  223254         3297  ...                68.0        5.689852e+07\n",
              "1  223255         3297  ...               118.0        1.162384e+08\n",
              "2  223258         2924  ...                 0.0        5.000000e+03\n",
              "3  223259         2924  ...                 0.0        9.990000e+03\n",
              "4  223260         2924  ...                 0.0        1.200000e+04\n",
              "\n",
              "[5 rows x 16 columns]"
            ]
          },
          "metadata": {
            "tags": []
          },
          "execution_count": 8
        }
      ]
    },
    {
      "cell_type": "code",
      "metadata": {
        "id": "rZXD37S74NAn",
        "colab": {
          "base_uri": "https://localhost:8080/",
          "height": 289
        },
        "outputId": "a01ef916-9677-4671-ccf7-b727af86664f"
      },
      "source": [
        "# TEST BANK CONNECTIONS DATAFRAME\n",
        "bank_connections.head()"
      ],
      "execution_count": null,
      "outputs": [
        {
          "output_type": "execute_result",
          "data": {
            "text/html": [
              "<div>\n",
              "<style scoped>\n",
              "    .dataframe tbody tr th:only-of-type {\n",
              "        vertical-align: middle;\n",
              "    }\n",
              "\n",
              "    .dataframe tbody tr th {\n",
              "        vertical-align: top;\n",
              "    }\n",
              "\n",
              "    .dataframe thead th {\n",
              "        text-align: right;\n",
              "    }\n",
              "</style>\n",
              "<table border=\"1\" class=\"dataframe\">\n",
              "  <thead>\n",
              "    <tr style=\"text-align: right;\">\n",
              "      <th></th>\n",
              "      <th>icij_sar_id</th>\n",
              "      <th>filer_org_name_id</th>\n",
              "      <th>filer_org_name</th>\n",
              "      <th>entity_b_id</th>\n",
              "      <th>entity_b</th>\n",
              "      <th>entity_b_country</th>\n",
              "      <th>entity_b_iso_code</th>\n",
              "    </tr>\n",
              "  </thead>\n",
              "  <tbody>\n",
              "    <tr>\n",
              "      <th>0</th>\n",
              "      <td>4132</td>\n",
              "      <td>standard-chartered-plc</td>\n",
              "      <td>Standard Chartered Plc</td>\n",
              "      <td>habib-metropolitan-bank-limited-karachi-pakist...</td>\n",
              "      <td>Habib Metropolitan Bank Limited</td>\n",
              "      <td>Pakistan</td>\n",
              "      <td>PAK</td>\n",
              "    </tr>\n",
              "    <tr>\n",
              "      <th>1</th>\n",
              "      <td>3181</td>\n",
              "      <td>standard-chartered-plc</td>\n",
              "      <td>Standard Chartered Plc</td>\n",
              "      <td>standard-chartered-bank-dubai-uae-are</td>\n",
              "      <td>Standard Chartered Bank</td>\n",
              "      <td>United Arab Emirates</td>\n",
              "      <td>ARE</td>\n",
              "    </tr>\n",
              "    <tr>\n",
              "      <th>2</th>\n",
              "      <td>3181</td>\n",
              "      <td>standard-chartered-plc</td>\n",
              "      <td>Standard Chartered Plc</td>\n",
              "      <td>al-rostamani-international-exchange-uae-are</td>\n",
              "      <td>Al Rostamani International Exchange</td>\n",
              "      <td>United Arab Emirates</td>\n",
              "      <td>ARE</td>\n",
              "    </tr>\n",
              "    <tr>\n",
              "      <th>3</th>\n",
              "      <td>3181</td>\n",
              "      <td>standard-chartered-plc</td>\n",
              "      <td>Standard Chartered Plc</td>\n",
              "      <td>kuwait-turkish-participation-bank-inc-istanbul...</td>\n",
              "      <td>Kuwait Turkish Participation Bank Inc</td>\n",
              "      <td>Turkey</td>\n",
              "      <td>TUR</td>\n",
              "    </tr>\n",
              "    <tr>\n",
              "      <th>4</th>\n",
              "      <td>3181</td>\n",
              "      <td>standard-chartered-plc</td>\n",
              "      <td>Standard Chartered Plc</td>\n",
              "      <td>wall-street-exchange-center-llc-dubai-uae-are</td>\n",
              "      <td>Wall Street Exchange Center Llc</td>\n",
              "      <td>United Arab Emirates</td>\n",
              "      <td>ARE</td>\n",
              "    </tr>\n",
              "  </tbody>\n",
              "</table>\n",
              "</div>"
            ],
            "text/plain": [
              "   icij_sar_id       filer_org_name_id  ...      entity_b_country entity_b_iso_code\n",
              "0         4132  standard-chartered-plc  ...              Pakistan               PAK\n",
              "1         3181  standard-chartered-plc  ...  United Arab Emirates               ARE\n",
              "2         3181  standard-chartered-plc  ...  United Arab Emirates               ARE\n",
              "3         3181  standard-chartered-plc  ...                Turkey               TUR\n",
              "4         3181  standard-chartered-plc  ...  United Arab Emirates               ARE\n",
              "\n",
              "[5 rows x 7 columns]"
            ]
          },
          "metadata": {
            "tags": []
          },
          "execution_count": 9
        }
      ]
    },
    {
      "cell_type": "code",
      "metadata": {
        "id": "LSnfPgwz_HM0",
        "colab": {
          "base_uri": "https://localhost:8080/",
          "height": 202
        },
        "outputId": "7d773ef6-7742-4bad-9b15-b8211cac158b"
      },
      "source": [
        "# TEST COUNTRY STATS DATAFRAME\n",
        "country_stats.head()"
      ],
      "execution_count": null,
      "outputs": [
        {
          "output_type": "execute_result",
          "data": {
            "text/html": [
              "<div>\n",
              "<style scoped>\n",
              "    .dataframe tbody tr th:only-of-type {\n",
              "        vertical-align: middle;\n",
              "    }\n",
              "\n",
              "    .dataframe tbody tr th {\n",
              "        vertical-align: top;\n",
              "    }\n",
              "\n",
              "    .dataframe thead th {\n",
              "        text-align: right;\n",
              "    }\n",
              "</style>\n",
              "<table border=\"1\" class=\"dataframe\">\n",
              "  <thead>\n",
              "    <tr style=\"text-align: right;\">\n",
              "      <th></th>\n",
              "      <th>name</th>\n",
              "      <th>latitude</th>\n",
              "      <th>longitude</th>\n",
              "      <th>pop2019</th>\n",
              "      <th>GrowthRate</th>\n",
              "      <th>area</th>\n",
              "      <th>Density</th>\n",
              "    </tr>\n",
              "  </thead>\n",
              "  <tbody>\n",
              "    <tr>\n",
              "      <th>0</th>\n",
              "      <td>Afghanistan</td>\n",
              "      <td>33.939110</td>\n",
              "      <td>67.709953</td>\n",
              "      <td>38041.754</td>\n",
              "      <td>1.0233</td>\n",
              "      <td>652230.0</td>\n",
              "      <td>58.3257</td>\n",
              "    </tr>\n",
              "    <tr>\n",
              "      <th>1</th>\n",
              "      <td>Albania</td>\n",
              "      <td>41.153332</td>\n",
              "      <td>20.168331</td>\n",
              "      <td>2880.917</td>\n",
              "      <td>0.9989</td>\n",
              "      <td>28748.0</td>\n",
              "      <td>100.2128</td>\n",
              "    </tr>\n",
              "    <tr>\n",
              "      <th>2</th>\n",
              "      <td>Algeria</td>\n",
              "      <td>28.033886</td>\n",
              "      <td>1.659626</td>\n",
              "      <td>43053.054</td>\n",
              "      <td>1.0185</td>\n",
              "      <td>2381741.0</td>\n",
              "      <td>18.0763</td>\n",
              "    </tr>\n",
              "    <tr>\n",
              "      <th>3</th>\n",
              "      <td>American Samoa</td>\n",
              "      <td>-14.270972</td>\n",
              "      <td>-170.132217</td>\n",
              "      <td>55.312</td>\n",
              "      <td>0.9978</td>\n",
              "      <td>199.0</td>\n",
              "      <td>277.9497</td>\n",
              "    </tr>\n",
              "    <tr>\n",
              "      <th>4</th>\n",
              "      <td>Andorra</td>\n",
              "      <td>42.546245</td>\n",
              "      <td>1.601554</td>\n",
              "      <td>77.142</td>\n",
              "      <td>1.0016</td>\n",
              "      <td>468.0</td>\n",
              "      <td>164.8333</td>\n",
              "    </tr>\n",
              "  </tbody>\n",
              "</table>\n",
              "</div>"
            ],
            "text/plain": [
              "             name   latitude   longitude  ...  GrowthRate       area   Density\n",
              "0     Afghanistan  33.939110   67.709953  ...      1.0233   652230.0   58.3257\n",
              "1         Albania  41.153332   20.168331  ...      0.9989    28748.0  100.2128\n",
              "2         Algeria  28.033886    1.659626  ...      1.0185  2381741.0   18.0763\n",
              "3  American Samoa -14.270972 -170.132217  ...      0.9978      199.0  277.9497\n",
              "4         Andorra  42.546245    1.601554  ...      1.0016      468.0  164.8333\n",
              "\n",
              "[5 rows x 7 columns]"
            ]
          },
          "metadata": {
            "tags": []
          },
          "execution_count": 10
        }
      ]
    },
    {
      "cell_type": "markdown",
      "metadata": {
        "id": "ByiP0h_9Dd3P"
      },
      "source": [
        "## Create Graph"
      ]
    },
    {
      "cell_type": "markdown",
      "metadata": {
        "id": "S-7uvTeDvQ1F"
      },
      "source": [
        "### Create Global Vertex and Edges"
      ]
    },
    {
      "cell_type": "code",
      "metadata": {
        "id": "EcSSDtPe8ekX",
        "colab": {
          "base_uri": "https://localhost:8080/"
        },
        "outputId": "6f22c9c0-dbe9-42c1-d92a-093a87d0021b"
      },
      "source": [
        "# DEFINE / CREATE ALL EDGES AND VERTEX \n",
        "print(conn.gsql('''CREATE VERTEX Organization (PRIMARY_ID organization_id STRING , name STRING) WITH primary_id_as_attribute=\"true\"''', options=[]))\n",
        "print(conn.gsql('''CREATE VERTEX Filing (PRIMARY_ID filing_id UINT, idicij_sar_id UINT, transaction_count FLOAT, transaction_amount FLOAT) WITH primary_id_as_attribute=\"true\"''', options=[]))\n",
        "print(conn.gsql('''CREATE VERTEX Country (PRIMARY_ID name STRING , iso STRING, latitude DOUBLE, longitude DOUBLE, population FLOAT, growth_rate FLOAT, area FLOAT, density FLOAT) WITH primary_id_as_attribute=\"true\"''', options=[]))\n",
        "print(conn.gsql('''CREATE DIRECTED EDGE FILED (FROM Organization, TO Filing, begin_date STRING, end_date STRING) WITH REVERSE_EDGE=\"REVERSE_FILING\"''', options=[]))\n",
        "print(conn.gsql('''CREATE DIRECTED EDGE BENEFICIARY (FROM Filing, TO Organization) WITH REVERSE_EDGE=\"REVERSE_BENEFICIARY\"''', options=[]))\n",
        "print(conn.gsql('''CREATE DIRECTED EDGE ORIGINATOR (FROM Organization, TO Filing) WITH REVERSE_EDGE=\"REVERESE_ORIGINATOR\"''', options=[]))\n",
        "print(conn.gsql('''CREATE UNDIRECTED EDGE LOCATED (FROM Country, TO Organization)''', options=[]))\n"
      ],
      "execution_count": null,
      "outputs": [
        {
          "output_type": "stream",
          "text": [
            "['The vertex type Organization is created.']\n",
            "['The vertex type Filing is created.']\n",
            "['The vertex type Country is created.']\n",
            "['The edge type FILED is created.', 'The reverse edge type REVERSE_FILING is created.']\n",
            "['The edge type BENEFICIARY is created.', 'The reverse edge type REVERSE_BENEFICIARY is created.']\n",
            "['The edge type ORIGINATOR is created.', 'The reverse edge type REVERESE_ORIGINATOR is created.']\n",
            "['The edge type LOCATED is created.']\n"
          ],
          "name": "stdout"
        }
      ]
    },
    {
      "cell_type": "markdown",
      "metadata": {
        "id": "5mIhQC-zD0ro"
      },
      "source": [
        "### Create FinCEN Graph"
      ]
    },
    {
      "cell_type": "code",
      "metadata": {
        "id": "f6SUNbWO9doi",
        "colab": {
          "base_uri": "https://localhost:8080/"
        },
        "outputId": "ac9cbaba-d9b3-46b8-a20c-5656fabba27e"
      },
      "source": [
        "# CREATE GRAPH \"fincen\"\n",
        "print(conn.gsql('''CREATE GRAPH fincen(Organization, Filing, Country, FILED, BENEFICIARY, ORIGINATOR, LOCATED, REVERSE_FILING, REVERSE_BENEFICIARY, REVERESE_ORIGINATOR)''', options=[]))"
      ],
      "execution_count": null,
      "outputs": [
        {
          "output_type": "stream",
          "text": [
            "['Stopping GPE GSE RESTPP', 'Successfully stopped GPE GSE RESTPP in 12.615 seconds', 'Starting GPE GSE RESTPP', 'Successfully started GPE GSE RESTPP in 0.165 seconds', 'The graph fincen is created.']\n"
          ],
          "name": "stdout"
        }
      ]
    },
    {
      "cell_type": "code",
      "metadata": {
        "id": "Q3DJFG6GKetZ",
        "colab": {
          "base_uri": "https://localhost:8080/"
        },
        "outputId": "e5c72cf5-0c27-4e71-dfec-8b9e4f40c1a2"
      },
      "source": [
        "# TEST TO SEE IF GRAPH SCHEMA BUILT\n",
        "print(conn.gsql('''LS''', options=[]))"
      ],
      "execution_count": null,
      "outputs": [
        {
          "output_type": "stream",
          "text": [
            "['---- Graph fincen', 'Vertex Types:', '- VERTEX Organization(PRIMARY_ID organization_id STRING, name STRING) WITH STATS=\"OUTDEGREE_BY_EDGETYPE\", PRIMARY_ID_AS_ATTRIBUTE=\"true\"', '- VERTEX Filing(PRIMARY_ID filing_id UINT, idicij_sar_id UINT, transaction_count FLOAT, transaction_amount FLOAT) WITH STATS=\"OUTDEGREE_BY_EDGETYPE\", PRIMARY_ID_AS_ATTRIBUTE=\"true\"', '- VERTEX Country(PRIMARY_ID name STRING, iso STRING, latitude DOUBLE, longitude DOUBLE, population FLOAT, growth_rate FLOAT, area FLOAT, density FLOAT) WITH STATS=\"OUTDEGREE_BY_EDGETYPE\", PRIMARY_ID_AS_ATTRIBUTE=\"true\"', 'Edge Types:', '- DIRECTED EDGE FILED(FROM Organization, TO Filing, begin_date STRING, end_date STRING) WITH REVERSE_EDGE=\"REVERSE_FILING\"', '- DIRECTED EDGE REVERSE_FILING(FROM Filing, TO Organization, begin_date STRING, end_date STRING) WITH REVERSE_EDGE=\"FILED\"', '- DIRECTED EDGE BENEFICIARY(FROM Filing, TO Organization) WITH REVERSE_EDGE=\"REVERSE_BENEFICIARY\"', '- DIRECTED EDGE REVERSE_BENEFICIARY(FROM Organization, TO Filing) WITH REVERSE_EDGE=\"BENEFICIARY\"', '- DIRECTED EDGE ORIGINATOR(FROM Organization, TO Filing) WITH REVERSE_EDGE=\"REVERESE_ORIGINATOR\"', '- DIRECTED EDGE REVERESE_ORIGINATOR(FROM Filing, TO Organization) WITH REVERSE_EDGE=\"ORIGINATOR\"', '- UNDIRECTED EDGE LOCATED(FROM Country, TO Organization)', '', 'Graphs:', '- Graph fincen(Organization:v, Filing:v, Country:v, FILED:e, REVERSE_FILING:e, BENEFICIARY:e, REVERSE_BENEFICIARY:e, ORIGINATOR:e, REVERESE_ORIGINATOR:e, LOCATED:e)', 'Jobs:', 'Queries:', '', '', '', '']\n"
          ],
          "name": "stdout"
        }
      ]
    },
    {
      "cell_type": "markdown",
      "metadata": {
        "id": "NmRHewPEv-Oi"
      },
      "source": [
        "### Set New Graph Parameters"
      ]
    },
    {
      "cell_type": "code",
      "metadata": {
        "id": "VDI-VBoRE2c-"
      },
      "source": [
        "# SET NEW GRAPH PARAMS\n",
        "conn.graphname = \"fincen\"\n",
        "#conn.apiToken = conn.getToken(conn.createSecret()) -> fails -> manually generated secret\n",
        "#src https://towardsdatascience.com/generating-a-secret-in-tigergraph-e5139d52dff6\n",
        "conn.apiToken = conn.getToken(\"todo:secret\")\n",
        "#confirm \n",
        "#conn.apiToken"
      ],
      "execution_count": null,
      "outputs": []
    },
    {
      "cell_type": "markdown",
      "metadata": {
        "id": "jslm5hHlEscU"
      },
      "source": [
        "## Load Data"
      ]
    },
    {
      "cell_type": "code",
      "metadata": {
        "id": "2Z0M3qQDSAhB",
        "colab": {
          "base_uri": "https://localhost:8080/"
        },
        "outputId": "250ac4c2-c260-4838-a597-2e1cb8f4a34e"
      },
      "source": [
        "# UPSERT VERTEX \"Organization\"\n",
        "v_entity = conn.upsertVertexDataFrame(bank_connections, \"Organization\", \"entity_b_id\", attributes={\"organization_id\": \"entity_b_id\", \"name\": \"entity_b\"})\n",
        "v_filer = conn.upsertVertexDataFrame(bank_connections, \"Organization\", \"filer_org_name_id\", attributes={\"organization_id\": \"filer_org_name_id\", \"name\": \"filer_org_name\"})\n",
        "print(str(v_entity+v_filer) + \" Organization VERTEX Upserted\")\n",
        "\n",
        "# UPSERT VERTEX \"Filing\"\n",
        "v_filing = conn.upsertVertexDataFrame(transactions, \"Filing\", \"id\", attributes={\"filing_id\": \"id\", \"idicij_sar_id\": \"icij_sar_id\", \"transaction_count\": \"number_transactions\", \"transaction_amount\": \"amount_transactions\"})\n",
        "print(str(v_filing) + \" Filing VERTEX Upserted\")\n",
        "\n",
        "# UPSERT VERTEX \"Country\"\n",
        "v_country = conn.upsertVertexDataFrame(country_stats, \"Country\", \"name\", attributes={\"name\": \"name\", \"latitude\": \"latitude\", \"longitude\": \"longitude\", \"population\": \"pop2019\", \"growth_rate\": \"GrowthRate\", \"area\": \"area\", \"density\": \"Density\"})\n",
        "print(str(v_country) + \" Country VERTEX Upserted\")\n",
        "\n",
        "# UPSERT EDGE \"LOCATED\"\n",
        "e_origin_loc = conn.upsertEdgeDataFrame(transactions, \"Country\", \"LOCATED\", \"Organization\", from_id=\"originator_bank_country\", to_id=\"originator_bank_id\", attributes={})\n",
        "e_benificiary_loc = conn.upsertEdgeDataFrame(transactions, \"Country\", \"LOCATED\", \"Organization\", from_id=\"beneficiary_bank_country\", to_id=\"beneficiary_bank_id\", attributes={})\n",
        "print(str(e_origin_loc+e_benificiary_loc) + \" LOCATED EDGES Upserted\")\n",
        "\n",
        "# UPSERT EDGE \"BENEFICIARY\"\n",
        "e_benificiary = conn.upsertEdgeDataFrame(transactions, \"Filing\", \"BENEFICIARY\", \"Organization\", from_id=\"id\", to_id=\"beneficiary_bank_id\", attributes={})\n",
        "print(str(e_benificiary) + \" BENEFICIARY EDGES Upserted\")\n",
        "\n",
        "# UPSERT EDGE \"ORIGINATOR\"\n",
        "e_originator = conn.upsertEdgeDataFrame(transactions, \"Organization\", \"ORIGINATOR\", \"Filing\", from_id=\"originator_bank_id\", to_id=\"id\", attributes={})\n",
        "print(str(e_originator) + \" ORIGINATOR EDGES Upserted\")\n",
        "\n",
        "# UPSERT EDGE \"FILED\"\n",
        "e_filed = conn.upsertEdgeDataFrame(transactions, \"Organization\", \"FILED\", \"Filing\", from_id=\"filer_org_name_id\", to_id=\"id\", attributes={\"begin_date\": \"begin_date\", \"end_date\": \"end_date\"})\n",
        "print(str(e_filed) + \" ORIGINATOR EDGES Upserted\")\n",
        "\n",
        "# PRINT OUT STATS\n",
        "print(\"=====TOTAL_UPSERTS=====\")\n",
        "print(str(v_entity+v_filer+v_filing+v_country) + \" TOTAL VERTICES\")\n",
        "print(str(e_origin_loc+e_benificiary_loc+e_benificiary+e_originator+e_filed) + \" TOTAL EDGES\")\n"
      ],
      "execution_count": null,
      "outputs": [
        {
          "output_type": "stream",
          "text": [
            "2212 Organization VERTEX Upserted\n",
            "4507 Filing VERTEX Upserted\n",
            "245 Country VERTEX Upserted\n",
            "2365 LOCATED EDGES Upserted\n",
            "4507 BENEFICIARY EDGES Upserted\n",
            "4507 ORIGINATOR EDGES Upserted\n",
            "4507 ORIGINATOR EDGES Upserted\n",
            "=====TOTAL_UPSERTS=====\n",
            "6964 TOTAL VERTICES\n",
            "15886 TOTAL EDGES\n"
          ],
          "name": "stdout"
        }
      ]
    },
    {
      "cell_type": "markdown",
      "metadata": {
        "id": "f318RDSnvwgn"
      },
      "source": [
        "## Extract Features for Machine Learning"
      ]
    },
    {
      "cell_type": "code",
      "metadata": {
        "id": "2f_Pm32YTdZn",
        "colab": {
          "base_uri": "https://localhost:8080/"
        },
        "outputId": "85e328b5-c73a-47e3-d6c3-d7d4bd73ddfb"
      },
      "source": [
        "# RUN QUERY TO EXTRACT FEATURES\n",
        "print(conn.runInterpretedQuery('''\n",
        "INTERPRET QUERY () FOR GRAPH fincen { \n",
        "  SumAccum<FLOAT> @totalTransactionAmount;\n",
        "  MaxAccum<FLOAT> @maxTransaction;\n",
        "  MinAccum<FLOAT> @minTransaction;\n",
        "  SumAccum<INT> @cntFiled;\n",
        "  \n",
        "  seed = {Organization.*};\n",
        "  \n",
        "  S1 = SELECT s \n",
        "       FROM seed:s-(FILED:e)->Filing:tgt\n",
        "       ACCUM s.@cntFiled += 1,\n",
        "             s.@totalTransactionAmount += tgt.transaction_amount,\n",
        "             s.@maxTransaction += tgt.transaction_amount,\n",
        "             s.@minTransaction += tgt.transaction_amount;\n",
        "\n",
        "  PRINT S1[\n",
        "            S1.@cntFiled AS Filing_Count,\n",
        "            S1.@totalTransactionAmount AS Total_Transaction_Amount,\n",
        "            S1.@maxTransaction AS Max_Transaction,\n",
        "            S1.@minTransaction AS MinTransaction\n",
        "          ]; \n",
        "}\n",
        "'''))"
      ],
      "execution_count": null,
      "outputs": [
        {
          "output_type": "stream",
          "text": [
            "[{'S1': [{'v_id': 'commerzbank-ag', 'v_type': 'Organization', 'attributes': {'Filing_Count': 3, 'Total_Transaction_Amount': 1400000, 'Max_Transaction': 650000, 'MinTransaction': 300000}}, {'v_id': 'deutsche-bank-ag', 'v_type': 'Organization', 'attributes': {'Filing_Count': 188, 'Total_Transaction_Amount': 6139140096, 'Max_Transaction': 802656000, 'MinTransaction': 755}}, {'v_id': 'the-western-union-company', 'v_type': 'Organization', 'attributes': {'Filing_Count': 3, 'Total_Transaction_Amount': 9402, 'Max_Transaction': 3134, 'MinTransaction': 3134}}, {'v_id': 'china-investment-corporation', 'v_type': 'Organization', 'attributes': {'Filing_Count': 103, 'Total_Transaction_Amount': 52275200, 'Max_Transaction': 16294911, 'MinTransaction': 140.44}}, {'v_id': 'valley-national-bank', 'v_type': 'Organization', 'attributes': {'Filing_Count': 11, 'Total_Transaction_Amount': 1107388.75, 'Max_Transaction': 500000, 'MinTransaction': 1750}}, {'v_id': 'banco-bilbao-vizcaya-argentaria-sa', 'v_type': 'Organization', 'attributes': {'Filing_Count': 2, 'Total_Transaction_Amount': 435765.34375, 'Max_Transaction': 290511.34375, 'MinTransaction': 145254}}, {'v_id': 'mitsubishi-ufj-financial-group-inc', 'v_type': 'Organization', 'attributes': {'Filing_Count': 4, 'Total_Transaction_Amount': 308604.5625, 'Max_Transaction': 270420, 'MinTransaction': 5865.97998}}, {'v_id': 'first-bancorp-puerto-rico', 'v_type': 'Organization', 'attributes': {'Filing_Count': 1, 'Total_Transaction_Amount': 25000, 'Max_Transaction': 25000, 'MinTransaction': 25000}}, {'v_id': 'barclays-plc', 'v_type': 'Organization', 'attributes': {'Filing_Count': 62, 'Total_Transaction_Amount': 375217088, 'Max_Transaction': 199547808, 'MinTransaction': 1868}}, {'v_id': 'los-alamos-national-bank', 'v_type': 'Organization', 'attributes': {'Filing_Count': 2, 'Total_Transaction_Amount': 19200, 'Max_Transaction': 10000, 'MinTransaction': 9200}}, {'v_id': 'ofg-bancorp', 'v_type': 'Organization', 'attributes': {'Filing_Count': 1, 'Total_Transaction_Amount': 167000, 'Max_Transaction': 167000, 'MinTransaction': 167000}}, {'v_id': 'jp-morgan-chase-co', 'v_type': 'Organization', 'attributes': {'Filing_Count': 147, 'Total_Transaction_Amount': 2401519616, 'Max_Transaction': 1082748160, 'MinTransaction': 50.97}}, {'v_id': 'the-bank-of-new-york-mellon-corp', 'v_type': 'Organization', 'attributes': {'Filing_Count': 3442, 'Total_Transaction_Amount': 23638689792, 'Max_Transaction': 2720999936, 'MinTransaction': 1.18}}, {'v_id': 'fifth-third-bank-national-association', 'v_type': 'Organization', 'attributes': {'Filing_Count': 7, 'Total_Transaction_Amount': 6324182, 'Max_Transaction': 4956000, 'MinTransaction': 2160}}, {'v_id': 'itau-corpbanca-colombia-sa', 'v_type': 'Organization', 'attributes': {'Filing_Count': 12, 'Total_Transaction_Amount': 3159837, 'Max_Transaction': 1193250, 'MinTransaction': 8600}}, {'v_id': 'the-pnc-financial-services-group-inc', 'v_type': 'Organization', 'attributes': {'Filing_Count': 9, 'Total_Transaction_Amount': 142144.25, 'Max_Transaction': 110000, 'MinTransaction': 284.25}}, {'v_id': 'societe-generale-sa', 'v_type': 'Organization', 'attributes': {'Filing_Count': 22, 'Total_Transaction_Amount': 1277768960, 'Max_Transaction': 336828000, 'MinTransaction': 13526}}, {'v_id': 'citigroup-inc', 'v_type': 'Organization', 'attributes': {'Filing_Count': 35, 'Total_Transaction_Amount': 13486928, 'Max_Transaction': 7370348, 'MinTransaction': 788.12}}, {'v_id': 'the-northern-trust-company', 'v_type': 'Organization', 'attributes': {'Filing_Count': 27, 'Total_Transaction_Amount': 29257598, 'Max_Transaction': 6570585, 'MinTransaction': 9540}}, {'v_id': 'frontier-bank-fsb-dba-el-paseo-bank', 'v_type': 'Organization', 'attributes': {'Filing_Count': 4, 'Total_Transaction_Amount': 36400, 'Max_Transaction': 25000, 'MinTransaction': 2400}}, {'v_id': 'standard-chartered-plc', 'v_type': 'Organization', 'attributes': {'Filing_Count': 376, 'Total_Transaction_Amount': 1652866176, 'Max_Transaction': 350082720, 'MinTransaction': 1600}}, {'v_id': 'first-bank-of-miami', 'v_type': 'Organization', 'attributes': {'Filing_Count': 4, 'Total_Transaction_Amount': 173079, 'Max_Transaction': 109452, 'MinTransaction': 4662}}, {'v_id': 'bank-of-america-corp', 'v_type': 'Organization', 'attributes': {'Filing_Count': 2, 'Total_Transaction_Amount': 45793520, 'Max_Transaction': 45695484, 'MinTransaction': 98034.60156}}, {'v_id': 'the-royal-bank-of-scotland-plc', 'v_type': 'Organization', 'attributes': {'Filing_Count': 2, 'Total_Transaction_Amount': 13209248, 'Max_Transaction': 13105248, 'MinTransaction': 104000}}, {'v_id': 'hsbc-holdings-plc', 'v_type': 'Organization', 'attributes': {'Filing_Count': 30, 'Total_Transaction_Amount': 29362196, 'Max_Transaction': 6000000, 'MinTransaction': 5395.50977}}, {'v_id': 'us-century-bank', 'v_type': 'Organization', 'attributes': {'Filing_Count': 8, 'Total_Transaction_Amount': 364855, 'Max_Transaction': 69976, 'MinTransaction': 21892}}]}]\n"
          ],
          "name": "stdout"
        }
      ]
    },
    {
      "cell_type": "markdown",
      "metadata": {
        "id": "N626ucFZZKd-"
      },
      "source": [
        "# WARNING: DROP ALL - Will Delete everything in your graph!\n",
        "Use this if you would like to start the notebook lab from the beginning."
      ]
    },
    {
      "cell_type": "code",
      "metadata": {
        "id": "iTqRBWF_Y-R_"
      },
      "source": [
        "#print(conn.gsql('''DROP ALL''', options=[]))"
      ],
      "execution_count": null,
      "outputs": []
    }
  ]
}